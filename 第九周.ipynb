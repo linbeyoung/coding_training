{
 "cells": [
  {
   "cell_type": "markdown",
   "metadata": {},
   "source": [
    "1.12\n",
    "8 字符串转换\n",
    "请你来实现一个 myAtoi(string s) 函数，使其能将字符串转换成一个 32 位有符号整数（类似 C/C++ 中的 atoi 函数）。\n",
    "\n",
    "函数 myAtoi(string s) 的算法如下：\n",
    "\n",
    "读入字符串并丢弃无用的前导空格\n",
    "检查下一个字符（假设还未到字符末尾）为正还是负号，读取该字符（如果有）。 确定最终结果是负数还是正数。 如果两者都不存在，则假定结果为正。\n",
    "读入下一个字符，直到到达下一个非数字字符或到达输入的结尾。字符串的其余部分将被忽略。\n",
    "将前面步骤读入的这些数字转换为整数（即，\"123\" -> 123， \"0032\" -> 32）。如果没有读入数字，则整数为 0 。必要时更改符号（从步骤 2 开始）。\n",
    "如果整数数超过 32 位有符号整数范围 [−231,  231 − 1] ，需要截断这个整数，使其保持在这个范围内。具体来说，小于 −231 的整数应该被固定为 −231 ，大于 231 − 1 的整数应该被固定为 231 − 1 。\n",
    "返回整数作为最终结果。\n",
    "注意：\n",
    "\n",
    "本题中的空白字符只包括空格字符 ' ' 。\n",
    "除前导空格或数字后的其余字符串外，请勿忽略 任何其他字符。\n",
    "\n",
    "\n",
    "来源：力扣（LeetCode）\n",
    "链接：https://leetcode-cn.com/problems/string-to-integer-atoi\n",
    "著作权归领扣网络所有。商业转载请联系官方授权，非商业转载请注明出处。"
   ]
  },
  {
   "cell_type": "code",
   "execution_count": 10,
   "metadata": {},
   "outputs": [
    {
     "name": "stdout",
     "output_type": "stream",
     "text": [
      "-1 42\n"
     ]
    },
    {
     "data": {
      "text/plain": [
       "-42"
      ]
     },
     "execution_count": 10,
     "metadata": {},
     "output_type": "execute_result"
    }
   ],
   "source": [
    "class Solution:\n",
    "    def myAtoi(self, s: str) -> int:\n",
    "        index = 0  # 以此为指针\n",
    "        # 1.忽略前导空格\n",
    "        while (index < len(s) and s[index] == ' '):  # 判断在s的长度内\n",
    "            index += 1  # \n",
    "        # 2.解决符号问题\n",
    "        sign = 1\n",
    "        if (index < len(s) and (s[index] == '+' or s[index] == '-' )):\n",
    "            sign = 1 if s[index] == '+' else -1\n",
    "            index += 1  # 这个地方容易漏\n",
    "        # 3.处理数字直到非数字结尾\n",
    "        val = 0\n",
    "        while(index < len(s) and s[index] >= '0' and s[index] <= '9'):\n",
    "            # 处理上溢问题\n",
    "            # 通过val*10 + (s[index] - '0') >2147483647 得到\n",
    "            if  val > (2147483647 - (int(s[index]) - int('0'))) / 10:\n",
    "                if sign == 1:\n",
    "                    return 2147483647  # 注意末尾7\n",
    "                else:\n",
    "                    return -2147483648\n",
    "            val = val * 10 + (int(s[index]) - int('0'))\n",
    "            # print(val)\n",
    "            index += 1\n",
    "        # print(sign, val)\n",
    "        return sign * val\n",
    "    \n",
    "# test = Solution()\n",
    "# test.myAtoi(\"-42\")"
   ]
  },
  {
   "cell_type": "markdown",
   "metadata": {},
   "source": [
    "1.13\n",
    "28 实现strSTR（）\n",
    "实现 strStr() 函数。\n",
    "\n",
    "给你两个字符串 haystack 和 needle ，请你在 haystack 字符串中找出 needle 字符串出现的第一个位置（下标从 0 开始）。如果不存在，则返回  -1 。\n",
    "\n",
    " \n",
    "\n",
    "说明：\n",
    "\n",
    "当 needle 是空字符串时，我们应当返回什么值呢？这是一个在面试中很好的问题。\n",
    "\n",
    "对于本题而言，当 needle 是空字符串时我们应当返回 0 。这与 C 语言的 strstr() 以及 Java 的 indexOf() 定义相符。\n",
    "\n",
    "\n",
    "\n",
    "来源：力扣（LeetCode）\n",
    "链接：https://leetcode-cn.com/problems/implement-strstr\n",
    "著作权归领扣网络所有。商业转载请联系官方授权，非商业转载请注明出处。"
   ]
  },
  {
   "cell_type": "code",
   "execution_count": 12,
   "metadata": {},
   "outputs": [
    {
     "data": {
      "text/plain": [
       "2"
      ]
     },
     "execution_count": 12,
     "metadata": {},
     "output_type": "execute_result"
    }
   ],
   "source": [
    "# 这个代码一直没debug通\n",
    "\n",
    "class Solution:\n",
    "    def strStr(self, haystack: str, needle: str) -> int:\n",
    "        b, p = 131, 1e9+7\n",
    "        n = len(haystack)\n",
    "        m = len(needle)\n",
    "        H = [0] * (n + 1)\n",
    "        # print(H)\n",
    "        # a = 1, b = 2, z = 26 注意a不能取0\n",
    "        for i in range(1, n + 1):\n",
    "            # print(i)\n",
    "            H[i] = (H[i - 1] * b + (ord(haystack[i - 1]) - ord('a') + 1)) % p  # 取模\n",
    "        Hneedle = 0\n",
    "        powBM = 1\n",
    "        for ch in needle:\n",
    "            Hneedle = (Hneedle * b + (ord(ch) - ord('a') + 1)) % p\n",
    "            powBM = powBM * b % p\n",
    "        \n",
    "        for l in range(1, n - m + 2):  # 此处需要 + 2\n",
    "            r = l + m - 1\n",
    "            if ((H[r] - H[l - 1] * powBM) % p + p) % p == Hneedle:\n",
    "                return l - 1\n",
    "        return -1\n",
    "        \n",
    "# t = Solution()\n",
    "# t.strStr(\"hello\", 'll')\n"
   ]
  },
  {
   "cell_type": "markdown",
   "metadata": {},
   "source": [
    "125 验证回文串\n",
    "给定一个字符串，验证它是否是回文串，只考虑字母和数字字符，可以忽略字母的大小写。\n",
    "\n",
    "说明：本题中，我们将空字符串定义为有效的回文串。"
   ]
  },
  {
   "cell_type": "code",
   "execution_count": null,
   "metadata": {},
   "outputs": [],
   "source": [
    "# 分两个阶段\n",
    "                        \n",
    "# 思路一 反着构造一个\n",
    "# 思路二 两个指针往中间移动 l - > r O(n) 时间\n",
    "# 这是最快的思路，但这里用掉了On的空间\n",
    "\n",
    "class Solution:\n",
    "    def isPalindrome(self, s: str) -> bool:\n",
    "        #  转换str为符合要求的str\n",
    "        t = ''\n",
    "        for ch in s:\n",
    "            if ('0' <= ch <= '9') or ('a' <= ch <= 'z'):  # c++中可以直接做大小比较\n",
    "                t += ch\n",
    "            elif 'A' <= ch <= 'Z':  # 注意这里要加等于号\n",
    "                t += ch.lower()\n",
    "        \n",
    "        l = 0\n",
    "        r = len(t) - 1\n",
    "        while l < r:\n",
    "            if t[l] != t[r]:\n",
    "                return False\n",
    "            l += 1\n",
    "            r -= 1  # bug index out of list , 注意r应为r--\n",
    "        return True\n",
    "    \n",
    "    "
   ]
  },
  {
   "cell_type": "code",
   "execution_count": null,
   "metadata": {},
   "outputs": [],
   "source": []
  },
  {
   "cell_type": "markdown",
   "metadata": {},
   "source": [
    "\n",
    "![avatar](code_pic/213481642185905_.pic.jpg)"
   ]
  }
 ],
 "metadata": {
  "interpreter": {
   "hash": "7667999d71ef3ac73ba8b451b33a42921956dddae38ba8458cbcbcc9e8fbbaea"
  },
  "kernelspec": {
   "display_name": "Python 3.8.5 64-bit ('base': conda)",
   "language": "python",
   "name": "python3"
  },
  "language_info": {
   "codemirror_mode": {
    "name": "ipython",
    "version": 3
   },
   "file_extension": ".py",
   "mimetype": "text/x-python",
   "name": "python",
   "nbconvert_exporter": "python",
   "pygments_lexer": "ipython3",
   "version": "3.8.5"
  },
  "orig_nbformat": 4
 },
 "nbformat": 4,
 "nbformat_minor": 2
}
