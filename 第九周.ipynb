{
 "cells": [
  {
   "cell_type": "markdown",
   "metadata": {},
   "source": [
    "1.12\n",
    "8 字符串转换\n",
    "请你来实现一个 myAtoi(string s) 函数，使其能将字符串转换成一个 32 位有符号整数（类似 C/C++ 中的 atoi 函数）。\n",
    "\n",
    "函数 myAtoi(string s) 的算法如下：\n",
    "\n",
    "读入字符串并丢弃无用的前导空格\n",
    "检查下一个字符（假设还未到字符末尾）为正还是负号，读取该字符（如果有）。 确定最终结果是负数还是正数。 如果两者都不存在，则假定结果为正。\n",
    "读入下一个字符，直到到达下一个非数字字符或到达输入的结尾。字符串的其余部分将被忽略。\n",
    "将前面步骤读入的这些数字转换为整数（即，\"123\" -> 123， \"0032\" -> 32）。如果没有读入数字，则整数为 0 。必要时更改符号（从步骤 2 开始）。\n",
    "如果整数数超过 32 位有符号整数范围 [−231,  231 − 1] ，需要截断这个整数，使其保持在这个范围内。具体来说，小于 −231 的整数应该被固定为 −231 ，大于 231 − 1 的整数应该被固定为 231 − 1 。\n",
    "返回整数作为最终结果。\n",
    "注意：\n",
    "\n",
    "本题中的空白字符只包括空格字符 ' ' 。\n",
    "除前导空格或数字后的其余字符串外，请勿忽略 任何其他字符。\n",
    "\n",
    "\n",
    "来源：力扣（LeetCode）\n",
    "链接：https://leetcode-cn.com/problems/string-to-integer-atoi\n",
    "著作权归领扣网络所有。商业转载请联系官方授权，非商业转载请注明出处。"
   ]
  },
  {
   "cell_type": "code",
   "execution_count": 8,
   "metadata": {},
   "outputs": [
    {
     "name": "stdout",
     "output_type": "stream",
     "text": [
      "-1 0\n"
     ]
    },
    {
     "data": {
      "text/plain": [
       "0"
      ]
     },
     "execution_count": 8,
     "metadata": {},
     "output_type": "execute_result"
    }
   ],
   "source": [
    "class Solution:\n",
    "    def myAtoi(self, s: str) -> int:\n",
    "        index = 0  # 以此为指针\n",
    "        # 1.忽略前导空格\n",
    "        while index < len(s) and s[index] == ' ':  # 判断在s的长度内\n",
    "            index += 1  # \n",
    "        # 2.解决符号问题\n",
    "        sign = 1\n",
    "        if index < len(s) and (s[index] == '+' or s[index] == '-' ):\n",
    "            sign = 1 if s[index] == '+' else -1\n",
    "        # 3.处理数字直到非数字结尾\n",
    "        val = 0\n",
    "        while(index < len(s) and s[index] >= '0' and s[index] <= '9'):\n",
    "            # 处理上溢问题\n",
    "            # 通过val*10 + (s[index] - '0') >2147483647 得到\n",
    "            if  val > (2147483647 - (int(s[index]) - int('0'))) / 10:\n",
    "                if sign == 1:\n",
    "                    return 2147483647\n",
    "                else:\n",
    "                    return -2147483647\n",
    "            val = val * 10 + (int(s[index]) - int('0'))\n",
    "            print(val)\n",
    "            index += 1\n",
    "        print(sign, val)\n",
    "        return sign * val\n",
    "    \n",
    "test = Solution()\n",
    "test.myAtoi(\"-42\")"
   ]
  },
  {
   "cell_type": "markdown",
   "metadata": {},
   "source": [
    "1.13\n",
    "28 实现strSTR（）\n"
   ]
  },
  {
   "cell_type": "code",
   "execution_count": null,
   "metadata": {},
   "outputs": [],
   "source": [
    "class Solution:\n",
    "    def strStr(self, haystack: str, needle: str) -> int:\n",
    "        b, p = 131, 1e9+7\n",
    "        n = len(haystack)\n",
    "        m = len(needle)\n",
    "        H = [0]\n",
    "        # a = 1, b = 2, z = 26 注意a不能取0\n",
    "        for i in range(1, n + 1):\n",
    "            H[i] = (H[i - 1] * b + (haystack[i - 1] - 'a' + 1)) % p  # 取模\n",
    "        Hneedle = 0\n",
    "        powBM = 1\n",
    "        for ch in needle:\n",
    "            Hneedle = (Hneedle * b + (ch - 'a' + 1)) % p\n",
    "            powBM = powBM * b % p\n",
    "        \n",
    "        for l in range(1, n - m + 1):\n",
    "            r = l + m - 1\n",
    "            if ((H[r] - H[l - 1] * powBM) % p + p) % p == Hneedle:\n",
    "                return l - 1\n",
    "        return -1\n",
    "        "
   ]
  }
 ],
 "metadata": {
  "interpreter": {
   "hash": "7667999d71ef3ac73ba8b451b33a42921956dddae38ba8458cbcbcc9e8fbbaea"
  },
  "kernelspec": {
   "display_name": "Python 3.8.5 64-bit ('base': conda)",
   "language": "python",
   "name": "python3"
  },
  "language_info": {
   "codemirror_mode": {
    "name": "ipython",
    "version": 3
   },
   "file_extension": ".py",
   "mimetype": "text/x-python",
   "name": "python",
   "nbconvert_exporter": "python",
   "pygments_lexer": "ipython3",
   "version": "3.8.5"
  },
  "orig_nbformat": 4
 },
 "nbformat": 4,
 "nbformat_minor": 2
}
