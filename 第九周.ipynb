{
 "cells": [
  {
   "cell_type": "markdown",
   "metadata": {},
   "source": [
    "1.12\n",
    "8 字符串转换"
   ]
  },
  {
   "cell_type": "code",
   "execution_count": null,
   "metadata": {},
   "outputs": [],
   "source": [
    "def atoi(s):\n",
    "    index = 0  # 以此为指针\n",
    "    # 1.忽略前导空格\n",
    "    while index < len(s) and s[index] == '':  # 判断在s的长度内\n",
    "        index += 1  # \n",
    "    # 2.解决符号问题\n",
    "    sign = 1\n",
    "    if index < len(s) and (s[index] == '+' or s[index] == '-' ):\n",
    "        sigh = 1 if s[index] == '+' else -1\n",
    "    # 3.处理数字直到非数字结尾\n",
    "    val = 0\n",
    "    while(index < len(s) and s[index] >= '0' and s[index] <= '0'):\n",
    "        # 处理上溢问题\n",
    "        # 通过val*10 + (s[index] - '0') >2147483647 得到\n",
    "        if  val > (2147483647 - (s[index] - '0')) /10:\n",
    "            if sign == 1:\n",
    "                return 2147483647\n",
    "            else:\n",
    "                return -2147483647\n",
    "        val = val * 10 + (s[index] - '0')\n",
    "        index += 1\n",
    "    return sign * val\n",
    "    "
   ]
  }
 ],
 "metadata": {
  "language_info": {
   "name": "python"
  },
  "orig_nbformat": 4
 },
 "nbformat": 4,
 "nbformat_minor": 2
}
