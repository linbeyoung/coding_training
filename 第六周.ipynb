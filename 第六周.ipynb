{
 "cells": [
  {
   "cell_type": "markdown",
   "metadata": {},
   "source": [
    "G20210760030151"
   ]
  },
  {
   "cell_type": "markdown",
   "metadata": {},
   "source": [
    "860 \n",
    "在柠檬水摊上，每一杯柠檬水的售价为 5 美元。顾客排队购买你的产品，（按账单 bills 支付的顺序）一次购买一杯。\n",
    "\n",
    "每位顾客只买一杯柠檬水，然后向你付 5 美元、10 美元或 20 美元。你必须给每个顾客正确找零，也就是说净交易是每位顾客向你支付 5 美元。\n",
    "\n",
    "注意，一开始你手头没有任何零钱。\n",
    "\n",
    "给你一个整数数组 bills ，其中 bills[i] 是第 i 位顾客付的账。如果你能给每位顾客正确找零，返回 true ，否则返回 false 。\n",
    "\n",
    "来源：力扣（LeetCode）\n",
    "链接：https://leetcode-cn.com/problems/lemonade-change\n",
    "著作权归领扣网络所有。商业转载请联系官方授权，非商业转载请注明出处。"
   ]
  },
  {
   "cell_type": "code",
   "execution_count": 3,
   "metadata": {},
   "outputs": [],
   "source": [
    "from typing import List\n",
    "\n",
    "class Solution:\n",
    "    def __init__(self, coin_dict={}):\n",
    "        self.coin_dict = {\n",
    "            5: 0,\n",
    "            10: 0,\n",
    "            20: 0\n",
    "        }\n",
    "    \n",
    "    def lemonadeChange(self, bills: List[int]) -> bool:\n",
    "        # save = 0\n",
    "        for bill in bills:\n",
    "            self.coin_dict[bill] += 1\n",
    "            # save += bill \n",
    "            if not self.exchange( bill - 5 ): \n",
    "                return False\n",
    "        return True\n",
    "\n",
    "    def exchange(self, amount):\n",
    "        for i in [20, 10, 5]:\n",
    "            while amount >= i and self.coin_dict[i] > 0:  # 此时用while，表示在符合这样的条件下, coin_dict[i]不能等于0\n",
    "                amount -= i  # 减去相应的钱\n",
    "                self.coin_dict[i] -= 1  # * 钱包的钱-1\n",
    "        \n",
    "        # return True\n",
    "        return amount == 0  # 这步不是很确定"
   ]
  },
  {
   "cell_type": "markdown",
   "metadata": {},
   "source": []
  }
 ],
 "metadata": {
  "interpreter": {
   "hash": "7667999d71ef3ac73ba8b451b33a42921956dddae38ba8458cbcbcc9e8fbbaea"
  },
  "kernelspec": {
   "display_name": "Python 3.8.5 64-bit ('base': conda)",
   "language": "python",
   "name": "python3"
  },
  "language_info": {
   "codemirror_mode": {
    "name": "ipython",
    "version": 3
   },
   "file_extension": ".py",
   "mimetype": "text/x-python",
   "name": "python",
   "nbconvert_exporter": "python",
   "pygments_lexer": "ipython3",
   "version": "3.8.5"
  },
  "orig_nbformat": 4
 },
 "nbformat": 4,
 "nbformat_minor": 2
}
