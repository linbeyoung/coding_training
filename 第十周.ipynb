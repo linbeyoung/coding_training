{
 "cells": [
  {
   "cell_type": "markdown",
   "metadata": {},
   "source": [
    "1.18\n",
    "191. 位1的个数\n",
    "编写一个函数，输入是一个无符号整数（以二进制串的形式），返回其二进制表达式中数字位数为 '1' 的个数（也被称为汉明重量）。\n",
    "\n",
    "https://leetcode-cn.com/problems/number-of-1-bits/"
   ]
  },
  {
   "cell_type": "code",
   "execution_count": 10,
   "metadata": {},
   "outputs": [
    {
     "name": "stdout",
     "output_type": "stream",
     "text": [
      "-1 42\n"
     ]
    },
    {
     "data": {
      "text/plain": [
       "-42"
      ]
     },
     "execution_count": 10,
     "metadata": {},
     "output_type": "execute_result"
    }
   ],
   "source": [
    "# 没跑通\n",
    "class Solution:\n",
    "    def hammingWeight(self, n: int) -> int:\n",
    "        cnt = 0\n",
    "        while (n > 0):\n",
    "            if ((n & 1) == 1):\n",
    "                cnt += 1\n",
    "                n = n >> 1\n",
    "        return cnt"
   ]
  },
  {
   "cell_type": "code",
   "execution_count": null,
   "metadata": {},
   "outputs": [],
   "source": [
    "# 用while要全扫描一遍\n",
    "\n",
    "class Solution:\n",
    "    def hammingWeight(self, n: int) -> int:\n",
    "        cnt = 0\n",
    "        for i in range(32):\n",
    "            if ((n >> i) & 1):\n",
    "                cnt += 1\n",
    "                # n = n >> 1\n",
    "        return cnt"
   ]
  },
  {
   "cell_type": "code",
   "execution_count": null,
   "metadata": {},
   "outputs": [],
   "source": [
    "# lowbit\n",
    "class Solution:\n",
    "    def hammingWeight(self, n: int) -> int:\n",
    "        cnt = 0\n",
    "        while n > 0:\n",
    "            # for i in range(32):\n",
    "            # if ((n >> i) & 1):\n",
    "                cnt += 1\n",
    "                n = n & (n - 1)\n",
    "                # n = n >> 1\n",
    "        return cnt"
   ]
  },
  {
   "cell_type": "markdown",
   "metadata": {},
   "source": [
    "![avatar](code_pic/Screen2022-01-18 01.50.49.png)"
   ]
  },
  {
   "cell_type": "markdown",
   "metadata": {},
   "source": [
    "1.18\n",
    "231. 2 的幂\n",
    "\n",
    "\n",
    "给你一个整数 n，请你判断该整数是否是 2 的幂次方。如果是，返回 true ；否则，返回 false 。\n",
    "\n",
    "如果存在一个整数 x 使得 n == 2x ，则认为 n 是 2 的幂次方。\n",
    "\n",
    "来源：力扣（LeetCode）\n",
    "链接：https://leetcode-cn.com/problems/power-of-two\n",
    "著作权归领扣网络所有。商业转载请联系官方授权，非商业转载请注明出处。"
   ]
  },
  {
   "cell_type": "code",
   "execution_count": 12,
   "metadata": {},
   "outputs": [
    {
     "data": {
      "text/plain": [
       "2"
      ]
     },
     "execution_count": 12,
     "metadata": {},
     "output_type": "execute_result"
    }
   ],
   "source": [
    "# 用lowbit\n",
    "# 因为2 的幂次 只有最高位为1\n",
    "# 如果lowbit = 本身，则为2 的幂次\n",
    "class Solution:\n",
    "    def isPowerOfTwo(self, n: int) -> bool:\n",
    "        return n > 0 and (n & -n) == n"
   ]
  },
  {
   "cell_type": "markdown",
   "metadata": {},
   "source": [
    "190. 颠倒二进制位\n",
    "\n",
    "颠倒给定的 32 位无符号整数的二进制位。\n",
    "\n",
    "https://leetcode-cn.com/problems/reverse-bits/"
   ]
  },
  {
   "cell_type": "code",
   "execution_count": null,
   "metadata": {},
   "outputs": [],
   "source": [
    "# 这题没通\n",
    "\n",
    "class Solution:\n",
    "    \n",
    "    def reverseBits(self, n: int) -> int:\n",
    "        ans = 0\n",
    "        for i in range(32):\n",
    "            ans = (ans << 1) | (n >> i & i)\n",
    "            \n",
    "        return ans"
   ]
  },
  {
   "cell_type": "markdown",
   "metadata": {},
   "source": [
    "338. 比特位计数\n",
    "\n",
    "给你一个整数 n ，对于 0 <= i <= n 中的每个 i ，计算其二进制表示中 1 的个数 ，返回一个长度为 n + 1 的数组 ans 作为答案。\n",
    "\n",
    "https://leetcode-cn.com/problems/counting-bits/"
   ]
  },
  {
   "cell_type": "code",
   "execution_count": null,
   "metadata": {},
   "outputs": [],
   "source": [
    "# On\n",
    "class Solution:\n",
    "    def countBits(self, n: int) -> List[int]:\n",
    "        cnt = [0] * (n-1)\n",
    "        for i in range(n+1):\n",
    "            cnt[i] = cnt[i & (i - 1)] + 1\n",
    "        return cnt\n",
    "        "
   ]
  },
  {
   "cell_type": "markdown",
   "metadata": {},
   "source": [
    "\n",
    "![avatar](code_pic/213481642185905_.pic.jpg)"
   ]
  }
 ],
 "metadata": {
  "interpreter": {
   "hash": "7667999d71ef3ac73ba8b451b33a42921956dddae38ba8458cbcbcc9e8fbbaea"
  },
  "kernelspec": {
   "display_name": "Python 3.8.5 64-bit ('base': conda)",
   "language": "python",
   "name": "python3"
  },
  "language_info": {
   "codemirror_mode": {
    "name": "ipython",
    "version": 3
   },
   "file_extension": ".py",
   "mimetype": "text/x-python",
   "name": "python",
   "nbconvert_exporter": "python",
   "pygments_lexer": "ipython3",
   "version": "3.8.5"
  },
  "orig_nbformat": 4
 },
 "nbformat": 4,
 "nbformat_minor": 2
}
