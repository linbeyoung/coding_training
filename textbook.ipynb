{
 "cells": [
  {
   "cell_type": "code",
   "execution_count": null,
   "metadata": {},
   "outputs": [],
   "source": [
    "'''\n",
    "2.6\n",
    "26. 删除有序数组中的重复项\n",
    "给你一个有序数组 nums ，请你 原地 删除重复出现的元素，使每个元素 只出现一次 ，返回删除后数组的新长度。\n",
    "\n",
    "不要使用额外的数组空间，你必须在 原地 修改输入数组 并在使用 O(1) 额外空间的条件下完成。\n",
    "\n",
    "说明:\n",
    "\n",
    "为什么返回数值是整数，但输出的答案是数组呢?\n",
    "\n",
    "请注意，输入数组是以「引用」方式传递的，这意味着在函数里修改输入数组对于调用者是可见的。\n",
    "\n",
    "你可以想象内部操作如下:\n",
    "\n",
    "来源：力扣（LeetCode）\n",
    "链接：https://leetcode-cn.com/problems/remove-duplicates-from-sorted-array\n",
    "著作权归领扣网络所有。商业转载请联系官方授权，非商业转载请注明出处。\n",
    "\n",
    "'''\n",
    "\n",
    "# 注意本题需要在原地完成\n",
    "class Solution:\n",
    "    def removeDuplicates(self, nums: List[int]) -> int:\n",
    "        n = 0\n",
    "        for i in range(len(nums)):\n",
    "            if i == 0 or nums[i] != nums[i-1]:\n",
    "                nums[n] = nums[i]  # 注意是n = i\n",
    "                n += 1  # 设一个数跟着走\n",
    "        return n\n",
    "\n"
   ]
  },
  {
   "cell_type": "code",
   "execution_count": null,
   "metadata": {},
   "outputs": [],
   "source": [
    "class Solution {\n",
    "public:\n",
    "    int removeDuplicates(vector<int>& nums) {\n",
    "        int n = 0;  // miss\n",
    "        for (int i = 0; i < nums.size(); i++){\n",
    "            if (i == 0 || nums[i] != nums[i-1]){\n",
    "                nums[n] = nums[i];\n",
    "                n++;  // miss\n",
    "            }\n",
    "        }\n",
    "        return n;\n",
    "    }\n",
    "};"
   ]
  },
  {
   "cell_type": "code",
   "execution_count": null,
   "metadata": {},
   "outputs": [],
   "source": [
    "# 模板\n",
    "class Solution:\n",
    "    def removeDuplicates(self, nums: List[int]) -> int:\n",
    "        n = 0\n",
    "        for i in range(len(nums)):\n",
    "            if ():  # 符合某一条件 \n",
    "                nums[n] = nums[i]  # 注意是n = i\n",
    "                n += 1  # 设一个数跟着走\n",
    "        return n\n"
   ]
  }
 ],
 "metadata": {
  "language_info": {
   "name": "python"
  },
  "orig_nbformat": 4
 },
 "nbformat": 4,
 "nbformat_minor": 2
}
