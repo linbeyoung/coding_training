{
 "cells": [
  {
   "cell_type": "markdown",
   "metadata": {},
   "source": [
    "1. 大家都知道斐波那契数列，现在要求输入一个整数n，请你输出斐波那契数列的第n项（从0开始，第0项为0，第1项是1）。"
   ]
  },
  {
   "cell_type": "code",
   "execution_count": null,
   "metadata": {
    "collapsed": true
   },
   "outputs": [],
   "source": [
    "# -*- coding:utf-8 -*-\n",
    "class Solution:\n",
    "    def Fibonacci(self, n):\n",
    "        # write code here\n",
    "        #斐波拉契数的边界条件： F(0)=0 和 F(1)=1\n",
    "        if n < 2:\n",
    "            return n\n",
    "        else:\n",
    "            a, b = 0, 1\n",
    "            for i in range(n-1):\n",
    "                a, b = b, a + b        #状态转移方程，每次滚动更新数组\n",
    "            return b"
   ]
  },
  {
   "cell_type": "markdown",
   "metadata": {},
   "source": [
    "2. 一只青蛙一次可以跳上1级台阶，也可以跳上2级。求该青蛙跳上一个n级的台阶总共有多少种跳法（先后次序不同算不同的结果）。\n"
   ]
  },
  {
   "cell_type": "markdown",
   "metadata": {},
   "source": [
    "一只青蛙一次可以跳上1级台阶，也可以跳上2级……它也可以跳上n级。求该青蛙跳上一个n级的台阶(n为正整数)总共有多少种跳法。\n",
    "\n",
    "分析：\n",
    "1.知道f(n) = f(n-1) + f(n-2) +....+f(0)，那么f(n-1) = f(n-2) + f(n-3) +......+f(0);\n",
    "2.可知 f(n) = 2 * f(n-1);\n",
    "3.初始ans = 1;"
   ]
  },
  {
   "cell_type": "markdown",
   "metadata": {},
   "source": [
    "一只青蛙一次可以跳上1级台阶，也可以跳上2级……它也可以跳上n级。求该青蛙跳上一个n级的台阶(n为正整数)总共有多少种跳法。\n",
    "\n",
    "分析：\n",
    "1.知道f(n) = f(n-1) + f(n-2) +....+f(0)，那么f(n-1) = f(n-2) + f(n-3) +......+f(0);\n",
    "2.可知 f(n) = 2 * f(n-1);\n",
    "3.初始ans = 1;"
   ]
  },
  {
   "cell_type": "code",
   "execution_count": null,
   "metadata": {},
   "outputs": [],
   "source": [
    "class Solution:\n",
    "    def jumpFloorII(self, number):\n",
    "        # write code here\n",
    "        # 初始化\n",
    "        res = 1\n",
    "        for i in range(2, number+1):\n",
    "            # 循环计算\n",
    "            res = 2 * res\n",
    "        return res\n"
   ]
  },
  {
   "cell_type": "markdown",
   "metadata": {},
   "source": [
    "输入一个链表的头节点，按链表从尾到头的顺序返回每个节点的值（用数组返回）。"
   ]
  },
  {
   "cell_type": "code",
   "execution_count": null,
   "metadata": {},
   "outputs": [],
   "source": [
    "# -*- coding:utf-8 -*-\n",
    "# class ListNode:\n",
    "#     def __init__(self, x):\n",
    "#         self.val = x\n",
    "#         self.next = None\n",
    "\n",
    "class Solution:\n",
    "    # 返回从尾部到头部的列表值序列，例如[1,2,3]\n",
    "    def printListFromTailToHead(self, listNode):\n",
    "        # write code her\n",
    "        res = []\n",
    "        temp = listNode\n",
    "        while temp:\n",
    "            res.append(temp.val)\n",
    "            temp = temp.next\n",
    "        return res[::-1]"
   ]
  },
  {
   "cell_type": "markdown",
   "metadata": {},
   "source": []
  },
  {
   "cell_type": "code",
   "execution_count": null,
   "metadata": {},
   "outputs": [],
   "source": [
    "# -*- coding:utf-8 -*-\n",
    "class Solution:\n",
    "    def __init__(self):\n",
    "        self.stack1 = []\n",
    "        self.stack2 = []\n",
    "    def push(self, node):\n",
    "        # write code here\n",
    "        self.stack1.append(node)  # 这里就是加到队尾\n",
    "    def pop(self):\n",
    "        # return xx\n",
    "        if self.stack2:\n",
    "            return self.stack2.pop()\n",
    "        elif not self.stack1:\n",
    "            return None\n",
    "        else:\n",
    "            while self.stack1:\n",
    "                self.stack2.append(self.stack1.pop())\n",
    "            return self.stack2.pop()"
   ]
  },
  {
   "cell_type": "markdown",
   "metadata": {},
   "source": [
    "JZ6 ***\n",
    "描述\n",
    "把一个数组最开始的若干个元素搬到数组的末尾，我们称之为数组的旋转。\n",
    "输入一个非递减排序的数组的一个旋转，输出旋转数组的最小元素。\n",
    "NOTE：给出的所有元素都大于0，若数组大小为0，请返回0。"
   ]
  },
  {
   "cell_type": "code",
   "execution_count": null,
   "metadata": {},
   "outputs": [],
   "source": [
    "# -*- coding:utf-8 -*-\n",
    "class Solution:\n",
    "    def minNumberInRotateArray(self, rotateArray):\n",
    "        # write code here\n",
    "        if len(rotateArray) == 0:\n",
    "            return 0\n",
    "        if rotateArray[-1] > rotateArray[0]:\n",
    "            return rotateArray[0]\n",
    "        \n",
    "        low = 0\n",
    "        high = len(rotateArray) - 1\n",
    "        while low<high:\n",
    "            mid  = int((low + high) / 2) \n",
    "            if mid < high and rotateArray[mid] > rotateArray[mid + 1]:\n",
    "                return rotateArray[mid + 1]\n",
    "            else:\n",
    "                if rotateArray[mid] <= rotateArray[0]:  # 此处以下没看懂\n",
    "                    high = mid\n",
    "                else:\n",
    "                    low = mid + 1\n",
    "            return rotateArray[0]"
   ]
  },
  {
   "cell_type": "code",
   "execution_count": null,
   "metadata": {},
   "outputs": [],
   "source": [
    "***\n",
    "输入一个整数，输出该数32位二进制表示中1的个数。其中负数用补码表示。"
   ]
  },
  {
   "cell_type": "code",
   "execution_count": null,
   "metadata": {},
   "outputs": [],
   "source": [
    "# -*- coding:utf-8 -*-\n",
    "class Solution:\n",
    "    def NumberOf1(self, n):\n",
    "        # write code here\n",
    "        count = 0\n",
    "        if n < 0:\n",
    "            n = n & 0xFFFFFFFF\n",
    "        while n:\n",
    "            count += 1\n",
    "            n = n & (n - 1)\n",
    "        return count\n"
   ]
  },
  {
   "cell_type": "markdown",
   "metadata": {},
   "source": [
    "描述\n",
    "现在有一个整数类型的数组，数组中素只有一个元素只出现一次，其余的元素都出现两次。\n",
    "\n",
    "数据范围： 0 < n \\le 40000<n≤4000 ， 数组中每个值满足 0 \\le val \\le 40000≤val≤4000\n",
    "进阶： 空间复杂度 O(1)O(1) ，时间复杂度 O(n)O(n)\n"
   ]
  },
  {
   "cell_type": "code",
   "execution_count": null,
   "metadata": {},
   "outputs": [],
   "source": [
    "class Solution:\n",
    "    def singleNumber(self , A ):\n",
    "        # write code here\n",
    "        result=0\n",
    "        for i in range(len(A)):\n",
    "            result ^=A[i]\n",
    "        return result"
   ]
  },
  {
   "cell_type": "markdown",
   "metadata": {},
   "source": [
    "输入一个长度为n链表，反转链表后，输出新链表的表头。\n",
    "\n",
    "数据范围： n\\leq1000n≤1000\n",
    "要求：空间复杂度 O(1)O(1) ，时间复杂度 O(n)O(n) 。\n",
    "\n",
    "如当输入链表{1,2,3}时，\n",
    "经反转后，原链表变为{3,2,1}，所以对应的输出为{3,2,1}。\n",
    "以上转换过程如下图所示："
   ]
  },
  {
   "cell_type": "code",
   "execution_count": null,
   "metadata": {},
   "outputs": [],
   "source": [
    "# -*- coding:utf-8 -*-\n",
    "# class ListNode:\n",
    "#     def __init__(self, x):\n",
    "#         self.val = x\n",
    "#         self.next = None\n",
    "class Solution:\n",
    "    # 返回ListNode\n",
    "    def ReverseList(self, pHead):\n",
    "        # write code here\n",
    "#         list1 = ListNode()\n",
    "#         list2 = ListNode()\n",
    "        if not pHead:\n",
    "            return None\n",
    "        head = None\n",
    "        while pHead:\n",
    "            pHead.next, head, pHead = head, pHead, pHead.next\n",
    "        return head"
   ]
  }
 ],
 "metadata": {
  "kernelspec": {
   "display_name": "Python 2",
   "language": "python",
   "name": "python2"
  },
  "language_info": {
   "codemirror_mode": {
    "name": "ipython",
    "version": 2
   },
   "file_extension": ".py",
   "mimetype": "text/x-python",
   "name": "python",
   "nbconvert_exporter": "python",
   "pygments_lexer": "ipython2",
   "version": "2.7.6"
  }
 },
 "nbformat": 4,
 "nbformat_minor": 0
}
